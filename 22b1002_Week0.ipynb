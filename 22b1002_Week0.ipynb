{
  "cells": [
    {
      "cell_type": "markdown",
      "metadata": {
        "id": "0q8CIlBHRxKv"
      },
      "source": [
        "# **Week 0 : Introduction to Python**\n",
        "In this assignment, we shall be providing a class template where you have to fill code in indicated areas. Let's get started!\n"
      ]
    },
    {
      "cell_type": "markdown",
      "metadata": {
        "id": "m4b3tHfuTOrh"
      },
      "source": [
        "<img src=\"https://www.python.org/static/community_logos/python-logo-master-v3-TM.png\"\n",
        " style=\"float:right;width:50px;height:50px;\">"
      ]
    },
    {
      "cell_type": "markdown",
      "metadata": {
        "id": "tK5oDi2_bRFD"
      },
      "source": [
        "# **Importing Libraries**\n",
        "Feel free to import any additional libraries required"
      ]
    },
    {
      "cell_type": "code",
      "execution_count": 1,
      "metadata": {
        "id": "tDaWKbPibNj1"
      },
      "outputs": [],
      "source": [
        "# Import all libraries here \n",
        "import numpy as np \n",
        "import time \n",
        "import matplotlib.pyplot as plt \n",
        "\n",
        "\n",
        "\n",
        "# Setting the seed for reproducible results\n",
        "N = 1000\n",
        "M =np.random.random((N, N))\n",
        "w = np.random.random(N)\n",
        "\n"
      ]
    },
    {
      "cell_type": "markdown",
      "metadata": {
        "id": "M0kNSQmBYip0"
      },
      "source": [
        "# *Problem 1*\n",
        "In this problem, we will explore the concept of vectorising processes. Hence, we will focus upon eliminating as many for loops as possible and compare performance with and without for loops using python libraries.\n",
        "We will be computing\n",
        "\\begin{equation}\n",
        "s = \\sum_{i=1}^{N}w.v[i]\n",
        "\\end{equation}\n",
        "for a given matrix \n",
        "\\begin{equation}\n",
        "M = [v(1)\\text{  }v(2){}_{\\cdots}\\text{  }v(N)]\n",
        "\\end{equation}\n",
        "\n",
        "In the function : \\\\\n",
        "1. iterative_mult(w) : Iteratively multiply the row vector w with each of the columns of the matrix M (using a for loop), and return the addition of all results.\n",
        "2. matrix_mult(w) : Multiply the row vector w with the matrix M and add the resulting columns using a function of the numpy library.\n",
        "3. comparison(w) : Call the previous two functions here and measure the time taken in each of them using a python library. Store the times in variables time_iterative, time_matrix."
      ]
    },
    {
      "cell_type": "code",
      "execution_count": 2,
      "metadata": {
        "id": "k8IPZ0BmVpKv"
      },
      "outputs": [
        {
          "name": "stdout",
          "output_type": "stream",
          "text": [
            "Time taken by iterative method : 0.23139166831970215\n",
            "Time taken by matrix method : 0.0030007362365722656\n"
          ]
        },
        {
          "data": {
            "text/plain": [
              "(0.23139166831970215, 0.0030007362365722656)"
            ]
          },
          "execution_count": 2,
          "metadata": {},
          "output_type": "execute_result"
        }
      ],
      "source": [
        "class Tester : \n",
        "\n",
        "  def __init__(self, M) :  \n",
        "    self.M = np.array(M)\n",
        "\n",
        "  def iterative_mult(self , w) :\n",
        "    \n",
        "   \n",
        "       \n",
        "           ### INSERT CODE BELOW  ###\n",
        "    sum = 0\n",
        "    for i in range(len(w)):\n",
        "            c = 0\n",
        "            for j in range(len(w)):\n",
        "                c += w[j] * self.M[j, i]\n",
        "            sum += c\n",
        "    return sum\n",
        "\n",
        "    \n",
        "    ### INSERT CODE ABOVE ### \n",
        "\n",
        "  def matrix_mult(self , w) :\n",
        "\n",
        "    ### INSERT CODE BELOW  ###\n",
        "    \n",
        "    return np.sum( w*self.M, axis=0)\n",
        "   \n",
        "    ### INSERT CODE ABOVE ###\n",
        "\n",
        "  def comparison(self , w) :\n",
        "\n",
        "    \n",
        "\n",
        "    ### INSERT CODE BELOW  ###\n",
        "    tester_instance = Tester(M)\n",
        "    start_time = time.time()\n",
        "    tester_instance.iterative_mult(w)\n",
        "    time_iterative = time.time() - start_time\n",
        "\n",
        "    start_time1 = time.time()\n",
        "    tester_instance.matrix_mult(w)\n",
        "    time_matrix = time.time() - start_time1\n",
        "\n",
        "    \n",
        "    ### INSERT CODE ABOVE ###\n",
        "\n",
        "    print(f'Time taken by iterative method : {time_iterative}\\nTime taken by matrix method : {time_matrix}')\n",
        "\n",
        "    return time_iterative, time_matrix\n",
        "tester=Tester(M)\n",
        "tester.comparison(w)"
      ]
    },
    {
      "cell_type": "markdown",
      "metadata": {
        "id": "4onzhV4KcSAI"
      },
      "source": [
        "Now that we have created a tester class with some basic functionality of performance analysis, we will plot the time taken in both the methods of computing the required quantity. That is, given a row vector w, we want to compute :              \n",
        "\n",
        "\\begin{equation}\n",
        "s = \\sum_{i=1}^{N}w.v(i)\n",
        "\\end{equation}\n",
        "For this purpose, we will use the matplotlib library in python. "
      ]
    },
    {
      "cell_type": "code",
      "execution_count": 3,
      "metadata": {
        "id": "AUvkFgHxftZ_"
      },
      "outputs": [
        {
          "data": {
            "image/png": "[encoded data removed]",
            "text/plain": [
              "<Figure size 640x480 with 1 Axes>"
            ]
          },
          "metadata": {},
          "output_type": "display_data"
        }
      ],
      "source": [
        "w = np.random.randn(1, 100)\n",
        "results = []\n",
        "max_pow = 5\n",
        "M_dimension_values = []\n",
        "iterative_times = []\n",
        "matrix_times = []\n",
        "\n",
        "for i in range(max_pow) : \n",
        "  M_dimension = 10 ** i\n",
        "  M_matrix = np.random.rand(M_dimension,100)\n",
        "  tester_instance = Tester(M_matrix)\n",
        "  start_time_iterative = time.time()\n",
        "  for j in range(100):\n",
        "       tester_instance.iterative_mult(w)\n",
        "  time_iterative = (time.time() - start_time_iterative) / 100  # Average time per iteration\n",
        "\n",
        "  start_time_matrix = time.time()\n",
        "  for j in range(100):\n",
        "        tester_instance.matrix_mult(w)\n",
        "  time_matrix = (time.time() - start_time_matrix) / 100  # Average time per iteration\n",
        "\n",
        "  results.append((time_iterative, time_matrix))\n",
        "  M_dimension_values.append(M_dimension)\n",
        "  iterative_times.append(time_iterative)\n",
        "  matrix_times.append(time_matrix)\n",
        "\n",
        "\n",
        "\n",
        "\n",
        "\n",
        " \n",
        "  '''\n",
        "  1. Computing the times using Tester object defined above\n",
        "  2. Append the times to the results array\n",
        "  '''\n",
        "    \n",
        "\n",
        "\n",
        "  ### INSERT CODE BELOW ###\n",
        " \n",
        "\n",
        "\n",
        "  ### INSERT CODE ABOVE ###\n",
        "\n",
        "'''\n",
        "Now, plot the (line) graph with the axes as : \n",
        "1. X-axis : The 2nd dimension of the matrix M\n",
        "2. Y-axis : The times taken for the two processes\n",
        "\n",
        "Additionally, you must use a legend in order to distinguish the graphs of the two processes.\n",
        "'''\n",
        "plt.plot(M_dimension_values, iterative_times, label='Iterative')\n",
        "plt.plot(M_dimension_values, matrix_times, label='Matrix')\n",
        "plt.xscale('log')  # Set log scale for better visualization of M_dimension\n",
        "plt.xlabel('Matrix M Dimension (log scale)')\n",
        "plt.ylabel('Time (seconds)')\n",
        "plt.legend()\n",
        "plt.title('Iterative vs Numpy Multiplication')\n",
        "plt.show()\n",
        "### INSERT CODE BELOW ###\n",
        "\n",
        "### INSERT CODE ABOVE ###"
      ]
    },
    {
      "cell_type": "markdown",
      "metadata": {
        "id": "n_tp5arYsWN9"
      },
      "source": [
        "# **Observations**\n",
        "\n",
        "Now that we have successfully plotted the graphs, you can comment on the differences in the two times of computation. Please write your observations in the text box provided below. Make sure to note down the following : \\\\\n",
        "1. The approximate order of times obtained in the two processes (s/ms/$\\mu$s/ns)\n",
        "2. The method which results in lower computation times and by what factor\n",
        "3. Some possible explanation for your observation (after some googling perhaps)"
      ]
    },
    {
      "cell_type": "markdown",
      "metadata": {
        "id": "kTQfyDLxtq01"
      },
      "source": [
        "Insert observations here (double-click to edit the cell)\n",
        "->NumPy operations are vectorized, meaning they operate on entire arrays at once, rather than iterating over elements.\n",
        "->NumPy employs optimized algorithms for common operations like matrix multiplication, which are implemented in highly optimized and parallelized libraries (BLAS, LAPACK) under the hood.\n",
        "-> NumPy is precompiled, which means that the critical parts of the library are already compiled into machine code. This eliminates the interpretation      overhead associated with Python loops."
      ]
    },
    {
      "cell_type": "markdown",
      "metadata": {
        "id": "dIH2wqFnpfHj"
      },
      "source": [
        "# *Problem 2*\n",
        "\n",
        "In this assignment, you will be loading the famous [MNIST](http://yann.lecun.com/exdb/mnist/) dataset (a large dataset of hand-written images of numbers) from a *CSV* (comma separated values) file and performing various operations on them. \n",
        "\n",
        "Enjoy!\n",
        "\n",
        "\n"
      ]
    },
    {
      "cell_type": "markdown",
      "metadata": {
        "id": "gynBLuybpt0N"
      },
      "source": [
        "\n",
        "<img src=\"https://journaldev.nyc3.digitaloceanspaces.com/2020/10/mnist-dataset.png\"\n",
        " style=\"float:right;width:50px;height:50px;\">"
      ]
    },
    {
      "cell_type": "markdown",
      "metadata": {
        "id": "m44OKyYhpwV-"
      },
      "source": [
        "# **Loading Data**\n",
        "Let's start by loading the csv file in the main repo. Figure out how to load a file onto Google Colab (or whichever notebook you're using). The data can be downloaded from [here](https://drive.google.com/file/d/1p-rZZRrdbK05uIwRvwnkinpJI5o2griD/view?usp=share_link)\n"
      ]
    },
    {
      "cell_type": "code",
      "execution_count": 7,
      "metadata": {
        "id": "kPt2MwMDp2n8"
      },
      "outputs": [
        {
          "data": {
            "text/html": [
              "<div>\n",
              "<style scoped>\n",
              "    .dataframe tbody tr th:only-of-type {\n",
              "        vertical-align: middle;\n",
              "    }\n",
              "\n",
              "    .dataframe tbody tr th {\n",
              "        vertical-align: top;\n",
              "    }\n",
              "\n",
              "    .dataframe thead th {\n",
              "        text-align: right;\n",
              "    }\n",
              "</style>\n",
              "<table border=\"1\" class=\"dataframe\">\n",
              "  <thead>\n",
              "    <tr style=\"text-align: right;\">\n",
              "      <th></th>\n",
              "      <th>label</th>\n",
              "      <th>1x1</th>\n",
              "      <th>1x2</th>\n",
              "      <th>1x3</th>\n",
              "      <th>1x4</th>\n",
              "      <th>1x5</th>\n",
              "      <th>1x6</th>\n",
              "      <th>1x7</th>\n",
              "      <th>1x8</th>\n",
              "      <th>1x9</th>\n",
              "      <th>...</th>\n",
              "      <th>28x19</th>\n",
              "      <th>28x20</th>\n",
              "      <th>28x21</th>\n",
              "      <th>28x22</th>\n",
              "      <th>28x23</th>\n",
              "      <th>28x24</th>\n",
              "      <th>28x25</th>\n",
              "      <th>28x26</th>\n",
              "      <th>28x27</th>\n",
              "      <th>28x28</th>\n",
              "    </tr>\n",
              "  </thead>\n",
              "  <tbody>\n",
              "    <tr>\n",
              "      <th>0</th>\n",
              "      <td>7</td>\n",
              "      <td>0</td>\n",
              "      <td>0</td>\n",
              "      <td>0</td>\n",
              "      <td>0</td>\n",
              "      <td>0</td>\n",
              "      <td>0</td>\n",
              "      <td>0</td>\n",
              "      <td>0</td>\n",
              "      <td>0</td>\n",
              "      <td>...</td>\n",
              "      <td>0</td>\n",
              "      <td>0</td>\n",
              "      <td>0</td>\n",
              "      <td>0</td>\n",
              "      <td>0</td>\n",
              "      <td>0</td>\n",
              "      <td>0</td>\n",
              "      <td>0</td>\n",
              "      <td>0</td>\n",
              "      <td>0</td>\n",
              "    </tr>\n",
              "    <tr>\n",
              "      <th>1</th>\n",
              "      <td>2</td>\n",
              "      <td>0</td>\n",
              "      <td>0</td>\n",
              "      <td>0</td>\n",
              "      <td>0</td>\n",
              "      <td>0</td>\n",
              "      <td>0</td>\n",
              "      <td>0</td>\n",
              "      <td>0</td>\n",
              "      <td>0</td>\n",
              "      <td>...</td>\n",
              "      <td>0</td>\n",
              "      <td>0</td>\n",
              "      <td>0</td>\n",
              "      <td>0</td>\n",
              "      <td>0</td>\n",
              "      <td>0</td>\n",
              "      <td>0</td>\n",
              "      <td>0</td>\n",
              "      <td>0</td>\n",
              "      <td>0</td>\n",
              "    </tr>\n",
              "    <tr>\n",
              "      <th>2</th>\n",
              "      <td>1</td>\n",
              "      <td>0</td>\n",
              "      <td>0</td>\n",
              "      <td>0</td>\n",
              "      <td>0</td>\n",
              "      <td>0</td>\n",
              "      <td>0</td>\n",
              "      <td>0</td>\n",
              "      <td>0</td>\n",
              "      <td>0</td>\n",
              "      <td>...</td>\n",
              "      <td>0</td>\n",
              "      <td>0</td>\n",
              "      <td>0</td>\n",
              "      <td>0</td>\n",
              "      <td>0</td>\n",
              "      <td>0</td>\n",
              "      <td>0</td>\n",
              "      <td>0</td>\n",
              "      <td>0</td>\n",
              "      <td>0</td>\n",
              "    </tr>\n",
              "    <tr>\n",
              "      <th>3</th>\n",
              "      <td>0</td>\n",
              "      <td>0</td>\n",
              "      <td>0</td>\n",
              "      <td>0</td>\n",
              "      <td>0</td>\n",
              "      <td>0</td>\n",
              "      <td>0</td>\n",
              "      <td>0</td>\n",
              "      <td>0</td>\n",
              "      <td>0</td>\n",
              "      <td>...</td>\n",
              "      <td>0</td>\n",
              "      <td>0</td>\n",
              "      <td>0</td>\n",
              "      <td>0</td>\n",
              "      <td>0</td>\n",
              "      <td>0</td>\n",
              "      <td>0</td>\n",
              "      <td>0</td>\n",
              "      <td>0</td>\n",
              "      <td>0</td>\n",
              "    </tr>\n",
              "    <tr>\n",
              "      <th>4</th>\n",
              "      <td>4</td>\n",
              "      <td>0</td>\n",
              "      <td>0</td>\n",
              "      <td>0</td>\n",
              "      <td>0</td>\n",
              "      <td>0</td>\n",
              "      <td>0</td>\n",
              "      <td>0</td>\n",
              "      <td>0</td>\n",
              "      <td>0</td>\n",
              "      <td>...</td>\n",
              "      <td>0</td>\n",
              "      <td>0</td>\n",
              "      <td>0</td>\n",
              "      <td>0</td>\n",
              "      <td>0</td>\n",
              "      <td>0</td>\n",
              "      <td>0</td>\n",
              "      <td>0</td>\n",
              "      <td>0</td>\n",
              "      <td>0</td>\n",
              "    </tr>\n",
              "  </tbody>\n",
              "</table>\n",
              "<p>5 rows × 785 columns</p>\n",
              "</div>"
            ],
            "text/plain": [
              "   label  1x1  1x2  1x3  1x4  1x5  1x6  1x7  1x8  1x9  ...  28x19  28x20  \\\n",
              "0      7    0    0    0    0    0    0    0    0    0  ...      0      0   \n",
              "1      2    0    0    0    0    0    0    0    0    0  ...      0      0   \n",
              "2      1    0    0    0    0    0    0    0    0    0  ...      0      0   \n",
              "3      0    0    0    0    0    0    0    0    0    0  ...      0      0   \n",
              "4      4    0    0    0    0    0    0    0    0    0  ...      0      0   \n",
              "\n",
              "   28x21  28x22  28x23  28x24  28x25  28x26  28x27  28x28  \n",
              "0      0      0      0      0      0      0      0      0  \n",
              "1      0      0      0      0      0      0      0      0  \n",
              "2      0      0      0      0      0      0      0      0  \n",
              "3      0      0      0      0      0      0      0      0  \n",
              "4      0      0      0      0      0      0      0      0  \n",
              "\n",
              "[5 rows x 785 columns]"
            ]
          },
          "execution_count": 7,
          "metadata": {},
          "output_type": "execute_result"
        }
      ],
      "source": [
        "# Insert code to load the csv file into the notebook\n",
        "import pandas as pd\n",
        "file_path = r'\\Users\\krash\\Downloads\\archive (1)/mnist_test.csv'\n",
        "df = pd.read_csv(file_path)\n",
        "\n",
        "# Display the first few rows of the DataFrame to verify the data\n",
        "df.head()\n",
        "\n"
      ]
    },
    {
      "cell_type": "markdown",
      "metadata": {
        "id": "M_OrOB1_p4Gv"
      },
      "source": [
        "# **Reading from a CSV File**\n",
        "Now, let's read the values from the csv file! If you were to look into the file, you would see that each row has a long list of numbers, with the first column having numbers between **$0$ and $9$**, and the remaining columns having values from **$0$ to $255$** (make any sense?)\n",
        "\n",
        "Feel free to store the data in any way you want, to set up future operations with those rows (you might want to read the following tasks before deciding how you would store this data, if it helps). \n",
        "\n",
        "Also, make use of the `csv` module to read csv files. There are many other ways, but this should do for this assignment at least."
      ]
    },
    {
      "cell_type": "code",
      "execution_count": 8,
      "metadata": {
        "id": "Hlw5xlGvp-aW"
      },
      "outputs": [],
      "source": [
        "# Insert code to store the contents of the file in a variable (or many variables, if you want)\n",
        "import csv\n",
        "import numpy as np\n",
        "\n",
        "csv_file_path = r'\\Users\\krash\\Downloads\\archive (1)/mnist_test.csv'\n",
        " \n",
        "\n",
        "labels = []  \n",
        "data = []  \n",
        "\n",
        "with open(csv_file_path, 'r') as file:\n",
        "    csv_reader = csv.reader(file)\n",
        "    next(csv_reader)\n",
        "    for row in csv_reader:\n",
        "        labels.append(int(row[0]))  \n",
        "        data.append(np.array(row[1:], dtype=int)) \n",
        "\n",
        "data = np.array(data)\n",
        "\n",
        "\n"
      ]
    },
    {
      "cell_type": "markdown",
      "metadata": {
        "id": "le_5vpHDqCca"
      },
      "source": [
        "# **Organising Data**\n",
        "\n",
        "If you didn't figure out what the first column was supposed to be, no worries : they are the labels of the corresponding images. The remaining $784$ columns ($28 \\times 28$) correspond to the *gray-scale pixel values* of the $784$ pixels present in each image of a number.\n",
        "\n",
        "For example, the first row in the dataset has a label of $7$, signifying that the next $784$ values correspond to an image of the number $7$. These $784$ pixels are ordered **row-wise**, so the first $28$ are for the first row, the next $28$ for the second, and so on.\n",
        "\n",
        "Your tasks are the following : \n",
        "\n",
        "* Separate out the first column of values and store them separately as labels, you'll need them later\n",
        "\n",
        "* Once you're done with that, reshape the rows (after the removal of the labels) into matrices with dimension $28 \\times 28$ (If you've learnt *anything* from the first assignment, it should be to avoid using loops as much as possible, so think of, or search for, an inbuilt function that can reshape a matrix)\n",
        "\n",
        "**Note** : Just like vectors have a *depth* of $1$ and matrices have a *depth* of $2$, `NumPy` supports objects that can have a *depth* greater than $2$. \n",
        "\n",
        "This generalisation can be thought of as a **Tensor**, and the *depth* is called the *rank* or the *order* of the Tensor. If you've stored your initial data as a matrix, try and reshape it into a tensor of rank $3$, for the second task."
      ]
    },
    {
      "cell_type": "code",
      "execution_count": 9,
      "metadata": {
        "id": "FVTpVOILqFsg"
      },
      "outputs": [],
      "source": [
        "# Write your code here\n",
        "reshaped_matrix = data.reshape(-1, 28, 28)\n",
        "tensored = np.expand_dims(reshaped_matrix, axis=-1)\n",
        "\n",
        "\n"
      ]
    },
    {
      "cell_type": "markdown",
      "metadata": {
        "id": "etE1DamBqJ2D"
      },
      "source": [
        "# **Plotting images**\n",
        "Now that you have the data, in the form we want it in, go ahead and plot the first image! (Google it!)"
      ]
    },
    {
      "cell_type": "code",
      "execution_count": 10,
      "metadata": {
        "id": "u5JakJ_PqMZ9"
      },
      "outputs": [
        {
          "data": {
            "image/png": "[encoded data removed]",
            "text/plain": [
              "<Figure size 640x480 with 1 Axes>"
            ]
          },
          "metadata": {},
          "output_type": "display_data"
        }
      ],
      "source": [
        "# Write your code here\n",
        "import matplotlib.pyplot as plt\n",
        "\n",
        "\n",
        "plt.imshow(reshaped_matrix[0], cmap='gray')\n",
        "plt.title(f'Label: {labels[0]}')\n",
        "plt.show()\n",
        "\n"
      ]
    },
    {
      "cell_type": "markdown",
      "metadata": {
        "id": "WNmWhDN-qP-j"
      },
      "source": [
        "# **Grouping Images**\n",
        "\n",
        "Let's try and group those images together, based on their labels. This is slightly (maybe more than slightly) harder to understand (just using inbuilt functions), but the objective is the same : To try and minimise the number of iterations performed outside of NumPy\n",
        "\n",
        "Hint : You could also do this with $10$ iterations, which is the number of digits, and with $60000$ iterations, which is the number of images we have, so if you can't find any way without loops, try to find a way with $10$ iterations rather than $60000$"
      ]
    },
    {
      "cell_type": "code",
      "execution_count": 11,
      "metadata": {
        "id": "Loxdwb-TqQ5O"
      },
      "outputs": [],
      "source": [
        "# Write your code here\n",
        "grouped_images = {}\n",
        "for l in range(10):\n",
        "    i = np.where(np.array(labels) == l)[0]\n",
        "    grouped_images[l] = reshaped_matrix[i]\n",
        "\n"
      ]
    },
    {
      "cell_type": "markdown",
      "metadata": {
        "id": "TQrWoJw9qU9I"
      },
      "source": [
        "# **Computing Mean Images**\n",
        "\n",
        "Now that we have our data grouped, let's try to calculate the mean of the images corresponding to a particular label.\n",
        "\n",
        "Don't forget to plot all of them!"
      ]
    },
    {
      "cell_type": "code",
      "execution_count": 12,
      "metadata": {
        "id": "Dp8jlsfOqWOk"
      },
      "outputs": [
        {
          "data": {
            "image/png": "[encoded data removed]",
            "text/plain": [
              "<Figure size 1200x500 with 10 Axes>"
            ]
          },
          "metadata": {},
          "output_type": "display_data"
        }
      ],
      "source": [
        "# Write your code here for an array of 10 images, each representing the mean image of a number from 0 to 9, in order. Also plot them!\n",
        "mean_images = []\n",
        "for label in range(10):\n",
        "    label_image = np.mean(grouped_images[label], axis=0)\n",
        "    mean_images.append(label_image)\n",
        "plt.figure(figsize=(12, 5))\n",
        "for digit in range(10):\n",
        "    plt.subplot(2, 5, digit + 1)\n",
        "    plt.imshow(mean_images[digit], cmap='gray')\n",
        "    plt.title(f'Mean Image of {digit}')\n",
        "    plt.axis('off')\n",
        "\n",
        "plt.tight_layout()\n",
        "plt.show()\n"
      ]
    },
    {
      "cell_type": "markdown",
      "metadata": {
        "id": "jYwZ3wlVt8eq"
      },
      "source": [
        "# **Submission**\n",
        "\n",
        "Please upload the edited version of this notebook in the github classroom, with your file labelled as \\<roll_number\\>_week0.ipynb"
      ]
    }
  ],
  "metadata": {
    "colab": {
      "provenance": []
    },
    "kernelspec": {
      "display_name": "Python 3",
      "name": "python3"
    },
    "language_info": {
      "codemirror_mode": {
        "name": "ipython",
        "version": 3
      },
      "file_extension": ".py",
      "mimetype": "text/x-python",
      "name": "python",
      "nbconvert_exporter": "python",
      "pygments_lexer": "ipython3",
      "version": "3.12.1"
    }
  },
  "nbformat": 4,
  "nbformat_minor": 0
}
